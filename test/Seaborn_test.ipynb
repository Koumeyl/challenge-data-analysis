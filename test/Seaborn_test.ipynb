{
 "cells": [
  {
   "cell_type": "code",
   "execution_count": 1,
   "metadata": {},
   "outputs": [
    {
     "name": "stdout",
     "output_type": "stream",
     "text": [
      "{(1000, 1299): 'Brussels', (1300, 1499): 'Wallonia', (1500, 1999): 'Flanders', (2000, 2999): 'Flanders', (3000, 3499): 'Flanders', (3500, 3999): 'Flanders', (4000, 4999): 'Wallonia', (5000, 5680): 'Wallonia', (6000, 6599): 'Wallonia', (6600, 6999): 'Wallonia', (7000, 7999): 'Wallonia', (8000, 8999): 'Flanders', (9000, 9999): 'Flanders'}\n"
     ]
    }
   ],
   "source": [
    "import numpy as np\n",
    "import pandas as pd\n",
    "\n",
    "df = pd.read_csv(\"../data/raw_data.csv\")\n",
    "\n",
    "\n",
    "\n",
    "postcodes = {(1000,1299) : 'Brussels',\n",
    "(1300,1499) : 'Wallonia',\n",
    "(1500,1999) : 'Flanders',\n",
    "(2000,2999) : 'Flanders',\n",
    "(3000,3499) : 'Flanders',\n",
    "(3500,3999) : 'Flanders',\n",
    "(4000,4999) : 'Wallonia',\n",
    "(5000,5680) : 'Wallonia',\n",
    "(6000,6599) : 'Wallonia',\n",
    "(6600,6999) : 'Wallonia',\n",
    "(7000,7999) : 'Wallonia',\n",
    "(8000,8999) : 'Flanders',\n",
    "(9000,9999) : 'Flanders'}\n",
    "    \n",
    "print (postcodes)\n"
   ]
  },
  {
   "cell_type": "code",
   "execution_count": 17,
   "metadata": {},
   "outputs": [
    {
     "name": "stderr",
     "output_type": "stream",
     "text": [
      "/tmp/ipykernel_4056/1105970319.py:4: SettingWithCopyWarning: \n",
      "A value is trying to be set on a copy of a slice from a DataFrame\n",
      "\n",
      "See the caveats in the documentation: https://pandas.pydata.org/pandas-docs/stable/user_guide/indexing.html#returning-a-view-versus-a-copy\n",
      "  df[\"Region\"][df[\"zip_code\"].between(_min,_max)] = region\n"
     ]
    }
   ],
   "source": [
    "df[\"Region\"] = df['zip_code']\n",
    "for postcode_range, region in postcodes.items():\n",
    "    _min, _max = postcode_range\n",
    "    df[\"Region\"][df[\"zip_code\"].between(_min,_max)] = region"
   ]
  },
  {
   "cell_type": "code",
   "execution_count": 3,
   "metadata": {},
   "outputs": [],
   "source": [
    "region = postcodes[(4000,4999)]"
   ]
  },
  {
   "cell_type": "code",
   "execution_count": 8,
   "metadata": {},
   "outputs": [],
   "source": [
    "filter = df['zip_code'].between(4000,4999)"
   ]
  },
  {
   "cell_type": "code",
   "execution_count": 14,
   "metadata": {},
   "outputs": [],
   "source": [
    "df['Region'] = df['zip_code']"
   ]
  },
  {
   "cell_type": "code",
   "execution_count": 15,
   "metadata": {},
   "outputs": [
    {
     "name": "stderr",
     "output_type": "stream",
     "text": [
      "/tmp/ipykernel_4056/4075580509.py:1: SettingWithCopyWarning: \n",
      "A value is trying to be set on a copy of a slice from a DataFrame\n",
      "\n",
      "See the caveats in the documentation: https://pandas.pydata.org/pandas-docs/stable/user_guide/indexing.html#returning-a-view-versus-a-copy\n",
      "  df['Region'][filter] = region\n"
     ]
    }
   ],
   "source": [
    "df['Region'][filter] = region"
   ]
  },
  {
   "cell_type": "code",
   "execution_count": 18,
   "metadata": {},
   "outputs": [
    {
     "data": {
      "text/plain": [
       "0        Wallonia\n",
       "1        Flanders\n",
       "2        Brussels\n",
       "3        Flanders\n",
       "4        Brussels\n",
       "           ...   \n",
       "17368    Flanders\n",
       "17369    Flanders\n",
       "17370    Flanders\n",
       "17371    Flanders\n",
       "17372    Flanders\n",
       "Name: Region, Length: 17373, dtype: object"
      ]
     },
     "execution_count": 18,
     "metadata": {},
     "output_type": "execute_result"
    }
   ],
   "source": [
    "df.Region"
   ]
  },
  {
   "cell_type": "code",
   "execution_count": 20,
   "metadata": {},
   "outputs": [],
   "source": [
    "df.to_csv(\"../data/raw_data.csv\")\n"
   ]
  }
 ],
 "metadata": {
  "kernelspec": {
   "display_name": "Python 3.10.7 ('data-cleaning-challenge': venv)",
   "language": "python",
   "name": "python3"
  },
  "language_info": {
   "codemirror_mode": {
    "name": "ipython",
    "version": 3
   },
   "file_extension": ".py",
   "mimetype": "text/x-python",
   "name": "python",
   "nbconvert_exporter": "python",
   "pygments_lexer": "ipython3",
   "version": "3.10.7"
  },
  "orig_nbformat": 4,
  "vscode": {
   "interpreter": {
    "hash": "15b1ecbdc99e429fabd3cc8ed78f3b2c4f4a401e1bda25c8cf4166e21defa411"
   }
  }
 },
 "nbformat": 4,
 "nbformat_minor": 2
}
