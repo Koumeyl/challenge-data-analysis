{
 "cells": [
  {
   "cell_type": "code",
   "execution_count": null,
   "metadata": {},
   "outputs": [],
   "source": [
    "import numpy as np\n",
    "import pandas as pd\n",
    "\n",
    "df = pd.read_csv('../data/all_data_frame.csv', low_memory=False)\n",
    "df = df = df[df['Price'].notna()]\n",
    "df = df.drop_duplicates()"
   ]
  },
  {
   "cell_type": "code",
   "execution_count": null,
   "metadata": {},
   "outputs": [],
   "source": [
    "def keep_digits(column, type_of_digit=float):\n",
    "        df[column] = df[column].str.extract('(\\d+)').astype(type_of_digit).fillna(0)\n",
    "\n",
    "keep_digits('Living area', float)\n",
    "keep_digits('Surface of the plot', float)\n",
    "keep_digits('Garden surface', float)\n",
    "keep_digits('Terrace surface', float)\n",
    "\n",
    "\n",
    "df[['Living area','Surface of the plot','Garden surface','Terrace surface']]\n"
   ]
  },
  {
   "cell_type": "code",
   "execution_count": null,
   "metadata": {},
   "outputs": [],
   "source": [
    "df['Price'] = df['Price'].str.extract('(\\d+,\\d+)')\n",
    "df['Price'] = df['Price'].str.replace(',','').astype(float)\n"
   ]
  },
  {
   "cell_type": "code",
   "execution_count": null,
   "metadata": {},
   "outputs": [],
   "source": [
    "df['Building condition'] = df['Building condition'].map({'Good': 0.5, 'To renovate': 0.5, 'As new': 1, 'To be done up': 1, \n",
    "'Just renovated': 0.75, 'To restore':0 })\n",
    "df['Building condition'] = df['Building condition'].fillna(0)\n",
    "df['Number of frontages'] = df['Number of frontages'].fillna(1)\t\t\t\n",
    "df['Living area'] = df['Living area'].fillna(0)\t\t\n",
    "df['Kitchen type'] = df['Kitchen type'].fillna(0)\n",
    "df['Bedrooms'] = df['Bedrooms'].fillna(0)\n",
    "df['Furnished'] = df['Furnished'].fillna(0)\n",
    "df['Furnished'] = df['Furnished'].map({'Yes': 1, 'No': 0})\n",
    "df['Surface of the plot'] = df['Surface of the plot'].fillna(0)\n",
    "df['Garden surface'] = df['Garden surface'].fillna(0)\n",
    "df['Terrace surface'] = df['Terrace surface'].fillna(0)\n",
    "df['Swimming pool'] = df['Swimming pool'].fillna(0)\n",
    "df['Swimming pool'] = df['Swimming pool'].map({'Yes': 1, 'No': 0})\n"
   ]
  }
 ],
 "metadata": {
  "kernelspec": {
   "display_name": "Python 3.10.7 ('data-cleaning-challenge': venv)",
   "language": "python",
   "name": "python3"
  },
  "language_info": {
   "codemirror_mode": {
    "name": "ipython",
    "version": 3
   },
   "file_extension": ".py",
   "mimetype": "text/x-python",
   "name": "python",
   "nbconvert_exporter": "python",
   "pygments_lexer": "ipython3",
   "version": "3.10.7"
  },
  "orig_nbformat": 4,
  "vscode": {
   "interpreter": {
    "hash": "15b1ecbdc99e429fabd3cc8ed78f3b2c4f4a401e1bda25c8cf4166e21defa411"
   }
  }
 },
 "nbformat": 4,
 "nbformat_minor": 2
}
