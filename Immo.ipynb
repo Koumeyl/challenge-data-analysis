{
 "cells": [
  {
   "cell_type": "markdown",
   "id": "8081d5f3-f270-4787-be70-5e9682e4c1e8",
   "metadata": {},
   "source": [
    "# Observing the Immobiliare market in Belgium\n",
    "\n",
    "### Subtitle"
   ]
  },
  {
   "cell_type": "markdown",
   "id": "6f6ad0f9-6333-46c8-b510-a5624808d69d",
   "metadata": {},
   "source": [
    "Image"
   ]
  },
  {
   "cell_type": "markdown",
   "id": "e5b48031-c033-4619-9f1b-e380402304a2",
   "metadata": {
    "jp-MarkdownHeadingCollapsed": true,
    "tags": []
   },
   "source": [
    "## Introduction"
   ]
  },
  {
   "cell_type": "markdown",
   "id": "dfc23b33-5c2c-4b0c-9455-0c3c6019aac7",
   "metadata": {},
   "source": [
    "Describe the project and define the questions"
   ]
  },
  {
   "cell_type": "code",
   "execution_count": null,
   "id": "084a29c0-ceb2-4439-ba21-38a53485fdc0",
   "metadata": {},
   "outputs": [],
   "source": []
  },
  {
   "cell_type": "code",
   "execution_count": null,
   "id": "441788e6-dfb5-4c5a-9698-43e34b7dc2ba",
   "metadata": {},
   "outputs": [],
   "source": []
  },
  {
   "cell_type": "markdown",
   "id": "4a06be3e-2c25-46ae-bea9-8d4d884bd0a8",
   "metadata": {
    "tags": []
   },
   "source": [
    "## The process"
   ]
  },
  {
   "cell_type": "markdown",
   "id": "d9c32b70-3978-4eaf-82a0-b07b7761e016",
   "metadata": {
    "tags": []
   },
   "source": [
    "1. Scraped **Immoweb** information of houses and apartments\n",
    "2. Explored the data to understand the relationship between the variables and the price of the different types of elements\n",
    "\n",
    "Used Jupyter Lab, description of all the modules\n",
    "\n",
    "For the purpose of this exercise, an **element** can be a\n",
    "house, apartment or a building"
   ]
  },
  {
   "cell_type": "markdown",
   "id": "4c9c8065-0b05-4080-bddc-7c654a5acc8c",
   "metadata": {
    "jp-MarkdownHeadingCollapsed": true,
    "tags": []
   },
   "source": [
    "### 1. Scraping"
   ]
  },
  {
   "cell_type": "code",
   "execution_count": null,
   "id": "1783943f-d191-45df-9b2e-9e627da8e5ee",
   "metadata": {},
   "outputs": [],
   "source": []
  },
  {
   "cell_type": "markdown",
   "id": "bb746289-2591-40df-a3f3-9814e5767492",
   "metadata": {
    "tags": []
   },
   "source": [
    "##### Get links for each element"
   ]
  },
  {
   "cell_type": "code",
   "execution_count": null,
   "id": "e6e03359-b1ca-4a78-a1ed-b6bf0a9d3e40",
   "metadata": {},
   "outputs": [],
   "source": []
  },
  {
   "cell_type": "markdown",
   "id": "ddea49f5-5f0b-4db9-ae33-fb51cadada55",
   "metadata": {
    "tags": []
   },
   "source": [
    "##### Get raw attributes for each element"
   ]
  },
  {
   "cell_type": "code",
   "execution_count": null,
   "id": "5556cf11-2b6c-43d3-843e-9f39e5a735de",
   "metadata": {},
   "outputs": [],
   "source": []
  },
  {
   "cell_type": "markdown",
   "id": "cca654df-b27b-4b8d-99d4-60a01eafeb42",
   "metadata": {
    "tags": []
   },
   "source": [
    "##### Saving the information into a CSV"
   ]
  },
  {
   "cell_type": "code",
   "execution_count": null,
   "id": "71a9098c-0152-4871-b2aa-db1308d94f83",
   "metadata": {},
   "outputs": [],
   "source": []
  },
  {
   "cell_type": "markdown",
   "id": "a45e611d-8299-4419-9299-03c1ea750ac7",
   "metadata": {
    "jp-MarkdownHeadingCollapsed": true,
    "tags": []
   },
   "source": [
    "### 2. Cleaning Data"
   ]
  },
  {
   "cell_type": "code",
   "execution_count": 39,
   "id": "83b9eb9f-1355-4fae-9140-c2b8cfc14303",
   "metadata": {},
   "outputs": [],
   "source": [
    "import pandas as pd"
   ]
  },
  {
   "cell_type": "markdown",
   "id": "a90d2afe-7a7b-4d90-8a78-87c891e2242d",
   "metadata": {
    "tags": []
   },
   "source": [
    "##### Transform the CSV into a DataFrame"
   ]
  },
  {
   "cell_type": "code",
   "execution_count": 51,
   "id": "90413d56-51fc-49d2-81bc-5475dfb26ec2",
   "metadata": {
    "tags": []
   },
   "outputs": [],
   "source": [
    "df = pd.read_csv('data/all_data_frame.csv',low_memory=False)"
   ]
  },
  {
   "cell_type": "markdown",
   "id": "157263e2-da35-4b5e-9f51-660df1bad009",
   "metadata": {},
   "source": [
    "DtypeWarning: Columns (24,25,26,27,72,73,74,75,106,115,123) have mixed types"
   ]
  },
  {
   "cell_type": "markdown",
   "id": "2fbd75c9-39c4-4185-9df5-e4910c9bab85",
   "metadata": {
    "tags": []
   },
   "source": [
    "##### Cleaning the DataFrame"
   ]
  },
  {
   "cell_type": "code",
   "execution_count": 15,
   "id": "d133dff3-aedb-4386-8606-8802bfb55716",
   "metadata": {
    "tags": []
   },
   "outputs": [
    {
     "data": {
      "text/html": [
       "<div>\n",
       "<style scoped>\n",
       "    .dataframe tbody tr th:only-of-type {\n",
       "        vertical-align: middle;\n",
       "    }\n",
       "\n",
       "    .dataframe tbody tr th {\n",
       "        vertical-align: top;\n",
       "    }\n",
       "\n",
       "    .dataframe thead th {\n",
       "        text-align: right;\n",
       "    }\n",
       "</style>\n",
       "<table border=\"1\" class=\"dataframe\">\n",
       "  <thead>\n",
       "    <tr style=\"text-align: right;\">\n",
       "      <th></th>\n",
       "      <th>Available as of</th>\n",
       "      <th>Available date</th>\n",
       "      <th>Construction year</th>\n",
       "      <th>Building condition</th>\n",
       "      <th>Street frontage width</th>\n",
       "      <th>Number of frontages</th>\n",
       "      <th>Surroundings type</th>\n",
       "      <th>Virtual visit</th>\n",
       "      <th>Living area</th>\n",
       "      <th>Living room surface</th>\n",
       "      <th>...</th>\n",
       "      <th>Current monthly revenue</th>\n",
       "      <th>Percentage rented</th>\n",
       "      <th>Venue of the sale</th>\n",
       "      <th>Single session</th>\n",
       "      <th>Terms of visit</th>\n",
       "      <th>Starting price</th>\n",
       "      <th>EPC description</th>\n",
       "      <th>Sea view</th>\n",
       "      <th>Floor</th>\n",
       "      <th>Number of floors</th>\n",
       "    </tr>\n",
       "  </thead>\n",
       "  <tbody>\n",
       "    <tr>\n",
       "      <th>0</th>\n",
       "      <td>After signing the deed</td>\n",
       "      <td>November 12 2022 - 12:00 AM</td>\n",
       "      <td>1899.0</td>\n",
       "      <td>Good</td>\n",
       "      <td>5 m</td>\n",
       "      <td>2.0</td>\n",
       "      <td>Isolated</td>\n",
       "      <td>Link to the virtual visit</td>\n",
       "      <td>122 m² square meters</td>\n",
       "      <td>14 m² square meters</td>\n",
       "      <td>...</td>\n",
       "      <td>NaN</td>\n",
       "      <td>NaN</td>\n",
       "      <td>NaN</td>\n",
       "      <td>NaN</td>\n",
       "      <td>NaN</td>\n",
       "      <td>NaN</td>\n",
       "      <td>NaN</td>\n",
       "      <td>NaN</td>\n",
       "      <td>NaN</td>\n",
       "      <td>NaN</td>\n",
       "    </tr>\n",
       "    <tr>\n",
       "      <th>1</th>\n",
       "      <td>After signing the deed</td>\n",
       "      <td>September 15 2022 - 12:00 AM</td>\n",
       "      <td>1941.0</td>\n",
       "      <td>Good</td>\n",
       "      <td>4.44 m</td>\n",
       "      <td>2.0</td>\n",
       "      <td>Urban</td>\n",
       "      <td>NaN</td>\n",
       "      <td>119 m² square meters</td>\n",
       "      <td>32 m² square meters</td>\n",
       "      <td>...</td>\n",
       "      <td>NaN</td>\n",
       "      <td>NaN</td>\n",
       "      <td>NaN</td>\n",
       "      <td>NaN</td>\n",
       "      <td>NaN</td>\n",
       "      <td>NaN</td>\n",
       "      <td>NaN</td>\n",
       "      <td>NaN</td>\n",
       "      <td>NaN</td>\n",
       "      <td>NaN</td>\n",
       "    </tr>\n",
       "    <tr>\n",
       "      <th>2</th>\n",
       "      <td>After signing the deed</td>\n",
       "      <td>NaN</td>\n",
       "      <td>1961.0</td>\n",
       "      <td>To renovate</td>\n",
       "      <td>7 m</td>\n",
       "      <td>3.0</td>\n",
       "      <td>Living area (residential, urban or rural)</td>\n",
       "      <td>NaN</td>\n",
       "      <td>200 m² square meters</td>\n",
       "      <td>45 m² square meters</td>\n",
       "      <td>...</td>\n",
       "      <td>NaN</td>\n",
       "      <td>NaN</td>\n",
       "      <td>NaN</td>\n",
       "      <td>NaN</td>\n",
       "      <td>NaN</td>\n",
       "      <td>NaN</td>\n",
       "      <td>NaN</td>\n",
       "      <td>NaN</td>\n",
       "      <td>NaN</td>\n",
       "      <td>NaN</td>\n",
       "    </tr>\n",
       "    <tr>\n",
       "      <th>3</th>\n",
       "      <td>After signing the deed</td>\n",
       "      <td>NaN</td>\n",
       "      <td>1989.0</td>\n",
       "      <td>As new</td>\n",
       "      <td>12 m</td>\n",
       "      <td>4.0</td>\n",
       "      <td>Landscape</td>\n",
       "      <td>NaN</td>\n",
       "      <td>404 m² square meters</td>\n",
       "      <td>55 m² square meters</td>\n",
       "      <td>...</td>\n",
       "      <td>NaN</td>\n",
       "      <td>NaN</td>\n",
       "      <td>NaN</td>\n",
       "      <td>NaN</td>\n",
       "      <td>NaN</td>\n",
       "      <td>NaN</td>\n",
       "      <td>NaN</td>\n",
       "      <td>NaN</td>\n",
       "      <td>NaN</td>\n",
       "      <td>NaN</td>\n",
       "    </tr>\n",
       "    <tr>\n",
       "      <th>4</th>\n",
       "      <td>Depending on the tenant</td>\n",
       "      <td>NaN</td>\n",
       "      <td>1924.0</td>\n",
       "      <td>To be done up</td>\n",
       "      <td>7 m</td>\n",
       "      <td>2.0</td>\n",
       "      <td>NaN</td>\n",
       "      <td>Link to the virtual visit</td>\n",
       "      <td>350 m² square meters</td>\n",
       "      <td>NaN</td>\n",
       "      <td>...</td>\n",
       "      <td>NaN</td>\n",
       "      <td>NaN</td>\n",
       "      <td>NaN</td>\n",
       "      <td>NaN</td>\n",
       "      <td>NaN</td>\n",
       "      <td>NaN</td>\n",
       "      <td>NaN</td>\n",
       "      <td>NaN</td>\n",
       "      <td>NaN</td>\n",
       "      <td>NaN</td>\n",
       "    </tr>\n",
       "    <tr>\n",
       "      <th>...</th>\n",
       "      <td>...</td>\n",
       "      <td>...</td>\n",
       "      <td>...</td>\n",
       "      <td>...</td>\n",
       "      <td>...</td>\n",
       "      <td>...</td>\n",
       "      <td>...</td>\n",
       "      <td>...</td>\n",
       "      <td>...</td>\n",
       "      <td>...</td>\n",
       "      <td>...</td>\n",
       "      <td>...</td>\n",
       "      <td>...</td>\n",
       "      <td>...</td>\n",
       "      <td>...</td>\n",
       "      <td>...</td>\n",
       "      <td>...</td>\n",
       "      <td>...</td>\n",
       "      <td>...</td>\n",
       "      <td>...</td>\n",
       "      <td>...</td>\n",
       "    </tr>\n",
       "    <tr>\n",
       "      <th>18474</th>\n",
       "      <td>NaN</td>\n",
       "      <td>NaN</td>\n",
       "      <td>NaN</td>\n",
       "      <td>As new</td>\n",
       "      <td>NaN</td>\n",
       "      <td>NaN</td>\n",
       "      <td>NaN</td>\n",
       "      <td>NaN</td>\n",
       "      <td>126 m² square meters</td>\n",
       "      <td>NaN</td>\n",
       "      <td>...</td>\n",
       "      <td>NaN</td>\n",
       "      <td>NaN</td>\n",
       "      <td>NaN</td>\n",
       "      <td>NaN</td>\n",
       "      <td>NaN</td>\n",
       "      <td>NaN</td>\n",
       "      <td>NaN</td>\n",
       "      <td>NaN</td>\n",
       "      <td>1.0</td>\n",
       "      <td>3.0</td>\n",
       "    </tr>\n",
       "    <tr>\n",
       "      <th>18475</th>\n",
       "      <td>NaN</td>\n",
       "      <td>NaN</td>\n",
       "      <td>NaN</td>\n",
       "      <td>NaN</td>\n",
       "      <td>NaN</td>\n",
       "      <td>2.0</td>\n",
       "      <td>Living area (residential, urban or rural)</td>\n",
       "      <td>NaN</td>\n",
       "      <td>84 m² square meters</td>\n",
       "      <td>NaN</td>\n",
       "      <td>...</td>\n",
       "      <td>NaN</td>\n",
       "      <td>NaN</td>\n",
       "      <td>NaN</td>\n",
       "      <td>NaN</td>\n",
       "      <td>NaN</td>\n",
       "      <td>NaN</td>\n",
       "      <td>NaN</td>\n",
       "      <td>NaN</td>\n",
       "      <td>6.0</td>\n",
       "      <td>7.0</td>\n",
       "    </tr>\n",
       "    <tr>\n",
       "      <th>18476</th>\n",
       "      <td>NaN</td>\n",
       "      <td>NaN</td>\n",
       "      <td>NaN</td>\n",
       "      <td>NaN</td>\n",
       "      <td>NaN</td>\n",
       "      <td>2.0</td>\n",
       "      <td>Living area (residential, urban or rural)</td>\n",
       "      <td>NaN</td>\n",
       "      <td>80 m² square meters</td>\n",
       "      <td>NaN</td>\n",
       "      <td>...</td>\n",
       "      <td>NaN</td>\n",
       "      <td>NaN</td>\n",
       "      <td>NaN</td>\n",
       "      <td>NaN</td>\n",
       "      <td>NaN</td>\n",
       "      <td>NaN</td>\n",
       "      <td>NaN</td>\n",
       "      <td>NaN</td>\n",
       "      <td>5.0</td>\n",
       "      <td>7.0</td>\n",
       "    </tr>\n",
       "    <tr>\n",
       "      <th>18477</th>\n",
       "      <td>NaN</td>\n",
       "      <td>NaN</td>\n",
       "      <td>NaN</td>\n",
       "      <td>NaN</td>\n",
       "      <td>NaN</td>\n",
       "      <td>2.0</td>\n",
       "      <td>Living area (residential, urban or rural)</td>\n",
       "      <td>NaN</td>\n",
       "      <td>90 m² square meters</td>\n",
       "      <td>NaN</td>\n",
       "      <td>...</td>\n",
       "      <td>NaN</td>\n",
       "      <td>NaN</td>\n",
       "      <td>NaN</td>\n",
       "      <td>NaN</td>\n",
       "      <td>NaN</td>\n",
       "      <td>NaN</td>\n",
       "      <td>NaN</td>\n",
       "      <td>NaN</td>\n",
       "      <td>4.0</td>\n",
       "      <td>7.0</td>\n",
       "    </tr>\n",
       "    <tr>\n",
       "      <th>18478</th>\n",
       "      <td>NaN</td>\n",
       "      <td>NaN</td>\n",
       "      <td>2022.0</td>\n",
       "      <td>NaN</td>\n",
       "      <td>NaN</td>\n",
       "      <td>NaN</td>\n",
       "      <td>NaN</td>\n",
       "      <td>NaN</td>\n",
       "      <td>146 m² square meters</td>\n",
       "      <td>NaN</td>\n",
       "      <td>...</td>\n",
       "      <td>NaN</td>\n",
       "      <td>NaN</td>\n",
       "      <td>NaN</td>\n",
       "      <td>NaN</td>\n",
       "      <td>NaN</td>\n",
       "      <td>NaN</td>\n",
       "      <td>NaN</td>\n",
       "      <td>NaN</td>\n",
       "      <td>NaN</td>\n",
       "      <td>2.0</td>\n",
       "    </tr>\n",
       "  </tbody>\n",
       "</table>\n",
       "<p>17373 rows × 127 columns</p>\n",
       "</div>"
      ],
      "text/plain": [
       "               Available as of                Available date  \\\n",
       "0       After signing the deed   November 12 2022 - 12:00 AM   \n",
       "1       After signing the deed  September 15 2022 - 12:00 AM   \n",
       "2       After signing the deed                           NaN   \n",
       "3       After signing the deed                           NaN   \n",
       "4      Depending on the tenant                           NaN   \n",
       "...                        ...                           ...   \n",
       "18474                      NaN                           NaN   \n",
       "18475                      NaN                           NaN   \n",
       "18476                      NaN                           NaN   \n",
       "18477                      NaN                           NaN   \n",
       "18478                      NaN                           NaN   \n",
       "\n",
       "       Construction year Building condition Street frontage width  \\\n",
       "0                 1899.0               Good                   5 m   \n",
       "1                 1941.0               Good                4.44 m   \n",
       "2                 1961.0        To renovate                   7 m   \n",
       "3                 1989.0             As new                  12 m   \n",
       "4                 1924.0      To be done up                   7 m   \n",
       "...                  ...                ...                   ...   \n",
       "18474                NaN             As new                   NaN   \n",
       "18475                NaN                NaN                   NaN   \n",
       "18476                NaN                NaN                   NaN   \n",
       "18477                NaN                NaN                   NaN   \n",
       "18478             2022.0                NaN                   NaN   \n",
       "\n",
       "       Number of frontages                          Surroundings type  \\\n",
       "0                      2.0                                   Isolated   \n",
       "1                      2.0                                      Urban   \n",
       "2                      3.0  Living area (residential, urban or rural)   \n",
       "3                      4.0                                  Landscape   \n",
       "4                      2.0                                        NaN   \n",
       "...                    ...                                        ...   \n",
       "18474                  NaN                                        NaN   \n",
       "18475                  2.0  Living area (residential, urban or rural)   \n",
       "18476                  2.0  Living area (residential, urban or rural)   \n",
       "18477                  2.0  Living area (residential, urban or rural)   \n",
       "18478                  NaN                                        NaN   \n",
       "\n",
       "                   Virtual visit           Living area  Living room surface  \\\n",
       "0      Link to the virtual visit  122 m² square meters  14 m² square meters   \n",
       "1                            NaN  119 m² square meters  32 m² square meters   \n",
       "2                            NaN  200 m² square meters  45 m² square meters   \n",
       "3                            NaN  404 m² square meters  55 m² square meters   \n",
       "4      Link to the virtual visit  350 m² square meters                  NaN   \n",
       "...                          ...                   ...                  ...   \n",
       "18474                        NaN  126 m² square meters                  NaN   \n",
       "18475                        NaN   84 m² square meters                  NaN   \n",
       "18476                        NaN   80 m² square meters                  NaN   \n",
       "18477                        NaN   90 m² square meters                  NaN   \n",
       "18478                        NaN  146 m² square meters                  NaN   \n",
       "\n",
       "       ... Current monthly revenue Percentage rented Venue of the sale  \\\n",
       "0      ...                     NaN               NaN               NaN   \n",
       "1      ...                     NaN               NaN               NaN   \n",
       "2      ...                     NaN               NaN               NaN   \n",
       "3      ...                     NaN               NaN               NaN   \n",
       "4      ...                     NaN               NaN               NaN   \n",
       "...    ...                     ...               ...               ...   \n",
       "18474  ...                     NaN               NaN               NaN   \n",
       "18475  ...                     NaN               NaN               NaN   \n",
       "18476  ...                     NaN               NaN               NaN   \n",
       "18477  ...                     NaN               NaN               NaN   \n",
       "18478  ...                     NaN               NaN               NaN   \n",
       "\n",
       "       Single session Terms of visit Starting price  EPC description  \\\n",
       "0                 NaN            NaN            NaN              NaN   \n",
       "1                 NaN            NaN            NaN              NaN   \n",
       "2                 NaN            NaN            NaN              NaN   \n",
       "3                 NaN            NaN            NaN              NaN   \n",
       "4                 NaN            NaN            NaN              NaN   \n",
       "...               ...            ...            ...              ...   \n",
       "18474             NaN            NaN            NaN              NaN   \n",
       "18475             NaN            NaN            NaN              NaN   \n",
       "18476             NaN            NaN            NaN              NaN   \n",
       "18477             NaN            NaN            NaN              NaN   \n",
       "18478             NaN            NaN            NaN              NaN   \n",
       "\n",
       "       Sea view  Floor Number of floors  \n",
       "0           NaN    NaN              NaN  \n",
       "1           NaN    NaN              NaN  \n",
       "2           NaN    NaN              NaN  \n",
       "3           NaN    NaN              NaN  \n",
       "4           NaN    NaN              NaN  \n",
       "...         ...    ...              ...  \n",
       "18474       NaN    1.0              3.0  \n",
       "18475       NaN    6.0              7.0  \n",
       "18476       NaN    5.0              7.0  \n",
       "18477       NaN    4.0              7.0  \n",
       "18478       NaN    NaN              2.0  \n",
       "\n",
       "[17373 rows x 127 columns]"
      ]
     },
     "execution_count": 15,
     "metadata": {},
     "output_type": "execute_result"
    }
   ],
   "source": [
    "df.drop_duplicates()"
   ]
  },
  {
   "cell_type": "code",
   "execution_count": null,
   "id": "cb641f2e-a084-48b2-b3ba-c01b9113841c",
   "metadata": {},
   "outputs": [],
   "source": []
  },
  {
   "cell_type": "markdown",
   "id": "7a5eea9a-a462-45ff-ab65-e6972dc7b38d",
   "metadata": {
    "jupyter": {
     "source_hidden": true
    },
    "tags": []
   },
   "source": [
    "**List of raw attributes**\n",
    "\n",
    "- **Col1 Available as of** : DataType: string, Values: ['After signing the deed', 'Depending on the tenant', 'To be defined', 'Immediately', Nan ,'At delivery']  Comments: **not usefull**\n",
    "- **Col2 Available date** : DataType: date Month day Year, Comments: not usefull\n",
    "- **Col3 Construction year** : DataType: integer ####\n",
    "- **Col4 Building condition** : DataType: string, Values: ['Good', 'To renovate', 'As new', 'To be done up', nan, 'Just renovated', 'To restore'] Comments: **usefull**\n",
    "- **Col5 Street frontage width** : DataType: string, Values: #.## m, Comments: need to remove ' m' new DataType: float64, Comments: **not usefull**\n",
    "- **Col6 Number of frontages** :\n",
    "- **Col7 Surroundings type** :\n",
    "- **Col8 Virtual visit** :\n",
    "- **Col9 Living area** :\n",
    "- **Col10 Living room surface** :\n",
    "- **Col11 Dining room** :\n",
    "- **Col12 Kitchen type** :\n",
    "- **Col13 Kitchen surface** :\n",
    "- **Col14 Bedrooms** :\n",
    "- **Col15 Bedroom 1 surface** :\n",
    "- **Col16 Bedroom 2 surface** :\n",
    "- **Col17 Bathrooms** :\n",
    "- **Col18 Shower rooms** :\n",
    "- **Col19 Toilets** :\n",
    "- **Col20 Office surface** :\n",
    "- **Col21 Office** :\n",
    "- **Col22 Basement** :\n",
    "- **Col23 Attic** :\n",
    "- **Col24 Furnished** :\n",
    "- **Col25 Surface of the plot** :\n",
    "- **Col26 Width of the lot on the street** :\n",
    "- **Col27 Connection to sewer network** :\n",
    "- **Col28 Gas, water &amp; electricity** :\n",
    "- **Col29 Garden surface** :\n",
    "- **Col30 Terrace surface** :\n",
    "- **Col31 Elevator** :\n",
    "- **Col32 Accessible for disabled people** :\n",
    "- **Col33 TV cable** :\n",
    "- **Col34 Swimming pool** :\n",
    "- **Col35 Primary energy consumption** :\n",
    "- **Col36 Energy class** :\n",
    "- **Col37 Unnamed: 36** :\n",
    "- **Col38 Reference number of the EPC report** :\n",
    "- **Col39 CO₂ emission** :\n",
    "- **Col40 Yearly theoretical total energy consumption** :\n",
    "- **Col41 Heating type** :\n",
    "- **Col42 Double glazing** :\n",
    "- **Col43 Planning permission obtained** :\n",
    "- **Col44 Total ground floor buildable** :\n",
    "- **Col45 Subdivision permit** :\n",
    "- **Col46 Possible priority purchase right** :\n",
    "- **Col47 Proceedings for breach of planning regulations** :\n",
    "- **Col48 Flood zone type** :\n",
    "- **Col49 Latest land use designation** :\n",
    "- **Col50 Price** :\n",
    "- **Col51 Cadastral income** :\n",
    "- **Col52 Tenement building** :\n",
    "- **Col53 Address** :\n",
    "- **Col54 Website** :\n",
    "- **Col55 External reference** :\n",
    "- **Col56 subtype_of_property** :\n",
    "- **Col57 type_of_property** :\n",
    "- **Col58 type_of_sale** :\n",
    "- **Col59 locality** :\n",
    "- **Col60 zip_code** :\n",
    "- **Col61 url** :\n",
    "- **Col62 Bedroom 3 surface** :\n",
    "- **Col63 Bedroom 4 surface** :\n",
    "- **Col64 Neighbourhood or locality** :\n",
    "- **Col65 Covered parking spaces** :\n",
    "- **Col66 Outdoor parking spaces** :\n",
    "- **Col67 Dressing room** :\n",
    "- **Col68 Laundry room** :\n",
    "- **Col69 Professional space** :\n",
    "- **Col70 Basement surface** :\n",
    "- **Col71 Attic surface** :\n",
    "- **Col72 Armored door** :\n",
    "- **Col73 Land is facing street** :\n",
    "- **Col74 Wooded land** :\n",
    "- **Col75 Plot at rear** :\n",
    "- **Col76 Flat land** :\n",
    "- **Col77 Caretaker** :\n",
    "- **Col78 Intercom** :\n",
    "- **Col79 Secure access / alarm** :\n",
    "- **Col80 Air conditioning** :\n",
    "- **Col81 Visio phone** :\n",
    "- **Col82 Jacuzzi** :\n",
    "- **Col83 Sauna** :\n",
    "- **Col84 Internet** :\n",
    "- **Col85 Conformity certification for fuel tanks** :\n",
    "- **Col86 Heat pump** :\n",
    "- **Col87 Photovoltaic solar panels** :\n",
    "- **Col88 Thermic solar panels** :\n",
    "- **Col89 Common water heater** :\n",
    "- **Col90 Type of building** :\n",
    "- **Col91 Terrace** :\n",
    "- **Col92 Bedroom 5 surface** :\n",
    "- **Col93 Professional space surface** :\n",
    "- **Col94 As built plan** :\n",
    "- **Col95 Living room** :\n",
    "- **Col96 How many fireplaces?** :\n",
    "- **Col97 Garden** :\n",
    "- **Col98 Garden orientation** :\n",
    "- **Col99 Terrace orientation** :\n",
    "- **Col100 E-level (overall energy performance)** :\n",
    "- **Col101 Agent's name** :\n",
    "- **Col102 Number of annexes** :\n",
    "- **Col103 Isolated** :\n",
    "- **Col104 Obligation to build** :\n",
    "- **Col105 Monthly charges** :\n",
    "- **Col106 Property name** :\n",
    "- **Col107 Extra information** :\n",
    "- **Col108 Lump sum** :\n",
    "- **Col109 Monthly annuity** :\n",
    "- **Col110 Indexed annuity** :\n",
    "- **Col111 Reversionary annuity** :\n",
    "- **Col112 Bare ownership sale** :\n",
    "- **Col113 Number of annuitants** :\n",
    "- **Col114 Age of annuitant** :\n",
    "- **Col115 Maximum duration of annuity** :\n",
    "- **Col116 Age of annuitants** :\n",
    "- **Col117 Value of the property** :\n",
    "- **Col118 Current monthly revenue** :\n",
    "- **Col119 Percentage rented** :\n",
    "- **Col120 Venue of the sale** :\n",
    "- **Col121 Single session** :\n",
    "- **Col122 Terms of visit** :\n",
    "- **Col123 Starting price** :\n",
    "- **Col124 EPC description** :\n",
    "- **Col125 Sea view** :\n",
    "- **Col126 Floor** :\n",
    "- **Col127 Number of floors** :"
   ]
  },
  {
   "cell_type": "markdown",
   "id": "e5453f1f-b189-433b-a501-f48183f5b3db",
   "metadata": {
    "jupyter": {
     "outputs_hidden": true
    },
    "tags": []
   },
   "source": [
    "raw_attributes_list = df.columns.tolist()\n",
    "for index,attribute in enumerate(raw_attributes_list):\n",
    "    values = df[attribute].unique()[:10]\n",
    "    dtype = df[attribute].dtype\n",
    "    nanval = df[attribute].isna().sum()\n",
    "    print(f\"|Col{index+1}|{attribute}|{dtype}|{nanval}|{values}| | |\")"
   ]
  },
  {
   "cell_type": "markdown",
   "id": "5bee2bf6-b0d8-445e-86fa-92b0438b3004",
   "metadata": {
    "jupyter": {
     "source_hidden": true
    },
    "tags": []
   },
   "source": [
    "|Column|Attribute|dtype|Nan count|values|Clean_Status|Comments|\n",
    "|-|-|-|-|-|-|-|\n",
    "|Col1|Available as of|object|6279|['After signing the deed' 'Depending on the tenant' 'To be defined' 'Immediately' nan 'At delivery']| | |\n",
    "|Col2|Available date|object|15614|['November 12 2022 - 12:00 AM' 'September 15 2022 - 12:00 AM' nan 'December 20 2022 - 12:00 AM' 'January 1 2023 - 12:00 AM'  'September 30 2023 - 12:00 AM' 'December 12 2022 - 12:00 AM'  'May 1 2023 - 12:00 AM' 'December 1 2022 - 12:00 AM'  'January 30 2023 - 12:00 AM']| | |\n",
    "|Col3|Construction year|float64|6037|[1899. 1941. 1961. 1989. 1924. 1975. 1885. 1936. 1996. 1976.]| | |\n",
    "|Col4|Building condition|object|3319|['Good' 'To renovate' 'As new' 'To be done up' nan 'Just renovated'  'To restore']| | |\n",
    "|Col5|Street frontage width|object|13956|['5 m' '4.44 m' '7 m' '12 m' '15 m' '6.5 m' '8 m' '13 m' '6 m' '37 m']| | |\n",
    "|Col6|Number of frontages|float64|4588|[ 2.  3.  4. nan  1.  6.  5.  8.]| | |\n",
    "|Col7|Surroundings type|object|11641|['Isolated' 'Urban' 'Living area (residential, urban or rural)'  'Landscape' nan 'Countryside' 'Mall' 'Shop street' 'Fitted out'  'Not fitted out']| | |\n",
    "|Col8|Virtual visit|object|15558|['Link to the virtual visit' nan '360° tour']| | |\n",
    "|Col9|Living area|object|1374|['122 m² square meters' '119 m² square meters' '200 m² square meters'  '404 m² square meters' '350 m² square meters' '130 m² square meters'  '306 m² square meters' '1010 m² square meters' '165 m² square meters'  '125 m² square meters']| | |\n",
    "|Col10|Living room surface|object|8986|['14 m² square meters' '32 m² square meters' '45 m² square meters'  '55 m² square meters' nan '35 m² square meters' '33 m² square meters'  '40 m² square meters' '22 m² square meters' '31 m² square meters']| | |\n",
    "|Col11|Dining room|object|14838|['Yes' nan]| | |\n",
    "|Col12|Kitchen type|object|4671|['Semi equipped' 'USA installed' 'Installed' 'Hyper equipped'  'Not installed' 'USA semi equipped' 'USA hyper equipped' nan  'USA uninstalled']| | |\n",
    "|Col13|Kitchen surface|object|10529|['13 m² square meters' '10 m² square meters' '7 m² square meters'  '16 m² square meters' nan '14 m² square meters' '11 m² square meters'  '21 m² square meters' '25 m² square meters' '33 m² square meters']| | |\n",
    "|Col14|Bedrooms|float64|402|[ 2.  4.  3.  6. 10.  7.  5.  8. nan  9.]| | |\n",
    "|Col15|Bedroom 1 surface|object|8336|['17 m² square meters' '14 m² square meters' '20 m² square meters'  '12 m² square meters' nan '10 m² square meters' '19 m² square meters'  '36 m² square meters' '16 m² square meters' '34 m² square meters']| | |\n",
    "|Col16|Bedroom 2 surface|object|9341|['13 m² square meters' '10 m² square meters' '16 m² square meters' nan  '11 m² square meters' '15 m² square meters' '17 m² square meters'  '20 m² square meters' '29 m² square meters' '19 m² square meters']| | |\n",
    "|Col17|Bathrooms|float64|2430|[ 1.  2.  3.  5.  7.  4. nan  6. 11.  8.]| | |\n",
    "|Col18|Shower rooms|float64|13362|[ 1. nan  2.  3.  4.  5.  6. 11.  9.  7.]| | |\n",
    "|Col19|Toilets|float64|3183|[ 1.  2.  3.  5.  4.  7. nan  6. 11.  8.]| | |\n",
    "|Col20|Office surface|object|16630|['32 m² square meters' nan '10 m² square meters' '13 m² square meters'  '17 m² square meters' '14 m² square meters' '18 m² square meters'  '23 m² square meters' '24 m² square meters' '16 m² square meters']| | |\n",
    "|Col21|Office|object|11362|['Yes' nan 'No']| | |\n",
    "|Col22|Basement|object|10983|['Yes' nan]| | |\n",
    "|Col23|Attic|object|16401|['Yes' nan]| | |\n",
    "|Col24|Furnished|object|4322|['No' nan 'Yes']| | |\n",
    "|Col25|Surface of the plot|object|9508|['335 m² square meters' '49 m² square meters' '300 m² square meters'  '1000 m² square meters' '263 m² square meters' '991 m² square meters'  '460 m² square meters' '360 m² square meters' '16959 m² square meters'  '610 m² square meters']| | |\n",
    "|Col26|Width of the lot on the street|object|15312|['5 m meters' '4.44 m meters' '10 m meters' '20 m meters' '7 m meters'  '60 m meters' '6.5 m meters' nan '275 m meters' '6 m meters']| | |\n",
    "|Col27|Connection to sewer network|object|13056|['Connected' nan 'Not connected']| | |\n",
    "|Col28|Gas, water &amp; electricity|object|11388|['No' 'Yes' nan]| | |\n",
    "|Col29|Garden surface|object|14121|['171 m² square meters' nan '200 m² square meters' '1000 m² square meters'  '140 m² square meters' '215 m² square meters' '15324 m² square meters'  '430 m² square meters' '540 m² square meters' '1737 m² square meters']| | |\n",
    "|Col30|Terrace surface|object|9872|['20 m² square meters' nan '12 m² square meters' '52 m² square meters'  '14 m² square meters' '80 m² square meters' '30 m² square meters'  '25 m² square meters' '35 m² square meters' '38 m² square meters']| | |\n",
    "|Col31|Elevator|object|8368|['No' nan 'Yes']| | |\n",
    "|Col32|Accessible for disabled people|object|10556|['No' nan 'Yes']| | |\n",
    "|Col33|TV cable|object|12170|['Yes' nan 'No']| | |\n",
    "|Col34|Swimming pool|object|10524|['No' nan 'Yes']| | |\n",
    "|Col35|Primary energy consumption|object|61|['448 kWh/m² kilowatt hour per square meters'  '280 kWh/m² kilowatt hour per square meters'  '274 kWh/m² kilowatt hour per square meters' '262 kWh/m² kilowatt hour per square meters' '445 kWh/m² kilowatt hour per square meters' '482 kWh/m² kilowatt hour per square meters' '217 kWh/m² kilowatt hour per square meters' '424 kWh/m² kilowatt hour per square meters' '245 kWh/m² kilowatt hour per square meters' '649 kWh/m² kilowatt hour per square meters']| | |\n",
    "|Col36|Energy class|object|61|['F' 'C' 'E' 'G' 'B' 'D' nan 'Not specified' 'A' 'A+']| | |\n",
    "|Col37|Unnamed: 36|object|2796|['F' 'C' 'E' 'G' 'B' 'D' nan 'A' 'A+' 'Not specified']| | |\n",
    "|Col38|Reference number of the EPC report|object|67|['20220824006893' '20220512-0002601697-RES-1' '20220815\\xad-0000618777-\\xad01-\\xad8' '20180828-0002085595-1' 'G' '20220820003559' '2223752' '20220531-0000613819-01-6' '20220812007352' '2550943']| | |\n",
    "|Col39|CO₂ emission|object|61|['111 kg CO₂/m²' '6684 kg CO₂/m²' '68 kg CO₂/m²' '92885 kg CO₂/m²' '114 kg CO₂/m²' '51 kg CO₂/m²' '1632 kg CO₂/m²' '85 kg CO₂/m²' '61 kg CO₂/m²' '627 kg CO₂/m²']| | |\n",
    "|Col40|Yearly theoretical total energy consumption|object|61|['111 kWh/year' 'Not specified' '70159 kWh/year' '76890 kWh/year' '49142 kWh/year' '57454 kWh/year' '108270 kWh/year' '64571 kWh/year' '133062 kWh/year' nan]| | |\n",
    "|Col41|Heating type|object|4400|['Fuel oil' 'Gas' nan 'Pellet' 'Electric' 'Carbon' 'Wood' 'Solar']| | |\n",
    "|Col42|Double glazing|object|3437|['Yes' nan 'No']| | |\n",
    "|Col43|Planning permission obtained|object|10813|['Yes' nan]| | |\n",
    "|Col44|Total ground floor buildable|object|15671|['97 m² square meters' nan '120 m² square meters' '195 m² square meters' '348 m² square meters' '113 m² square meters' '149 m² square meters' '170 m² square meters' '200 m² square meters' '325 m² square meters']| | |\n",
    "|Col45|Subdivision permit|object|11155|['No' nan 'Yes']| | |\n",
    "|Col46|Possible priority purchase right|object|10017|['No' 'Yes' nan]| | |\n",
    "|Col47|Proceedings for breach of planning regulations|object|11159|['No' nan 'Yes']| | |\n",
    "|Col48|Flood zone type|object|8404|['Non flood zone' nan 'Recognized flood zone' 'Possible flood zone' 'Property partially or completely located in a circumscribed and recognized flood zone' 'Property partially or completely located in a possible flood zone and located in a circumscribed waterside zone' 'Circumscribed zone' 'Possible circumscribed waterside zone' 'Property partially or completely located in a circumscribed flood zone' 'Property partially or completely located in a circumscribed waterside zone']| | |\n",
    "|Col49|Latest land use designation|object|9946|['Living area (residential, urban or rural)' nan 'Residential area with cultural historical aesthetic value' 'Area of landscape interest' 'Mixed living area (accommodation &amp; economic activities)' 'Natural area' 'Residential park' 'Economic activity area' 'Farming area' 'Industrial area']| | |\n",
    "|Col50|Price|object|633|['Make an offer starting from € 159,000 Make an offer starting from 159000 €' '€ 345,000 345000 €' '€ 895,000 895000 €' '€ 570,000 570000 €' '€ 800,000 800000 €' '€ 425,000 425000 €' '€ 450,000 450000 €' '€ 750,000 750000 €' 'Make an offer starting from € 849,000 Make an offer starting from 849000 €' '€ 129,000 129000 €']| | |\n",
    "|Col51|Cadastral income|object|8254|['€ 441 441 €' '€ 417 417 €' '€ 2,627 2627 €' '€ 1,700 1700 €' '€ 2,662 2662 €' '€ 780 780 €' '€ 1,690 1690 €' '€ 2,625 2625 €' '€ 1,456 1456 €' '€ 349 349 €']| | |\n",
    "|Col52|Tenement building|object|18385|[nan 'No' 'Yes']| | |\n",
    "|Col53|Address|object|1024|['Rue de la Wallonie 2A 4680 - Oupeye' 'Sint-Denijslaan 1 9000 - Gent' 'Wezembeeklaan, 120 1950 - Kraainem' nan 'Rue Emile Bouilliot 61 1050 - Ixelles' 'Chaussée de Liège 7 6900 - Marche' 'Stationstraat 30 9600 - Ronse' \"Avenue Baron Albert d'Huart 130 1950 - Kraainem\" 'Chaussée de Tirlemont 15/1 4260 - Braives' 'Avenue Fond Jean Rosy 17A 1330 - Rixensart']| | |\n",
    "|Col54|Website|object|4154|['http://www.nigel-immo.be' 'http://www.immodavinci.be' 'http://www.keystones.be' nan 'http://www.caron-realestate.be' 'https://honesty.be/' 'http://www.latouretpetit.be' 'http://www.immodemarneffe.be' 'http://www.weinvest.be' 'http://www.expertissimmo.eu']| | |\n",
    "|Col55|External reference|object|3480|['4862172' '4964255' '4964425' nan '4964294' '4961946' '4862197' '4962685' '4861727' '4961494']| | |\n",
    "|Col56|subtype_of_property|object|0|['house' 'villa' 'apartment-block' 'exceptional-property' 'country-cottage' 'mixed-use-building' 'other-property' 'manor-house' 'farmhouse' 'town-house']| | |\n",
    "|Col57|type_of_property|object|0|['house' 'other' 'apartment']| | |\n",
    "|Col58|type_of_sale|object|0|['for-sale']| | |\n",
    "|Col59|locality|object|0|['ans' 'gent' 'woluwe-saint-pierre' 'galmaarden' 'forest' 'waimes' 'ronse' 'dalhem' 'remicourt' 'chaumont-gistoux']| | |\n",
    "|Col60|zip_code|int64|0|[4430 9000 1150 1570 1190 4950 9600 4607 4350 1325]| | |\n",
    "|Col61|url|object|0|['https://www.immoweb.be/en/classified/house/for-sale/ans/4430/10147032?searchId=633aeaf1e42e4' 'https://www.immoweb.be/en/classified/house/for-sale/gent/9000/10146903?searchId=633aeaf1e42e4' 'https://www.immoweb.be/en/classified/villa/for-sale/woluwe-saint-pierre/1150/10146862?searchId=633aeaf1e42e4' 'https://www.immoweb.be/en/classified/villa/for-sale/galmaarden/1570/9935270?searchId=633aeaf1e42e4' 'https://www.immoweb.be/en/classified/apartment-block/for-sale/forest/1190/10145907?searchId=633aeaf1e42e4' 'https://www.immoweb.be/en/classified/house/for-sale/waimes/4950/10143254?searchId=633aeaf1e42e4' 'https://www.immoweb.be/en/classified/apartment-block/for-sale/ronse/9600/10143136?searchId=633aeaf1e42e4' 'https://www.immoweb.be/en/classified/house/for-sale/woluwe-saint-pierre/1150/10142887?searchId=633aeaf1e42e4' 'https://www.immoweb.be/en/classified/exceptional-property/for-sale/dalhem/4607/10143366?searchId=633aeaf1e42e4' 'https://www.immoweb.be/en/classified/house/for-sale/ronse/9600/10140837?searchId=633aeaf1e42e4']| | |\n",
    "|Col62|Bedroom 3 surface|object|12560|[nan '14 m² square meters' '10 m² square meters' '27 m² square meters' '12 m² square meters' '8 m² square meters' '13 m² square meters' '15 m² square meters' '17 m² square meters' '21 m² square meters']| | |\n",
    "|Col63|Bedroom 4 surface|object|15725|[nan '15 m² square meters' '8 m² square meters' '16 m² square meters' '14 m² square meters' '11 m² square meters' '18 m² square meters' '23 m² square meters' '10 m² square meters' '12 m² square meters']| | |\n",
    "|Col64|Neighbourhood or locality|object|15635|[nan 'Omgeving Kraainem' 'Brussels' 'Zone Province de Liège' 'Basse Meuse' 'Waremme et 5 kms' 'Brabant Wallon' 'Bruxelles Sud' 'Les Woluwes' 'Bruxelles Est']| | |\n",
    "|Col65|Covered parking spaces|float64|10876|[nan  1.  2. 10.  5.  4.  3.  7. 12.  6.]| | |\n",
    "|Col66|Outdoor parking spaces|float64|12454|[nan  1.  2.  3.  6.  8.  5.  4. 20.  7.]| | |\n",
    "|Col67|Dressing room|object|14166|[nan 'No' 'Yes']| | |\n",
    "|Col68|Laundry room|object|16928|[nan 'Yes']| | |\n",
    "|Col69|Professional space|object|17380|[nan 'Yes' 'No']| | |\n",
    "|Col70|Basement surface|object|16570|[nan '148 m² square meters' '39 m² square meters' '49 m² square meters' '60 m² square meters' '48 m² square meters' '2 m² square meters' '23 m² square meters' '15 m² square meters' '50 m² square meters']| | |\n",
    "|Col71|Attic surface|object|17738|[nan '36 m² square meters' '66 m² square meters' '35 m² square meters' '124 m² square meters' '61 m² square meters' '4 m² square meters' '60 m² square meters' '52 m² square meters' '47 m² square meters']| | |\n",
    "|Col72|Armored door|object|14419|[nan 'No' 'Yes']| | |\n",
    "|Col73|Land is facing street|object|17034|[nan 'No' 'Yes']| | |\n",
    "|Col74|Wooded land|object|17110|[nan 'No' 'Yes']| | |\n",
    "|Col75|Plot at rear|object|17084|[nan 'No' 'Yes']| | |\n",
    "|Col76|Flat land|object|16988|[nan 'Yes' 'No']| | |\n",
    "|Col77|Caretaker|object|15128|[nan 'No' 'Yes']| | |\n",
    "|Col78|Intercom|object|12766|[nan 'No' 'Yes']| | |\n",
    "|Col79|Secure access / alarm|object|13389|[nan 'Yes' 'No']| | |\n",
    "|Col80|Air conditioning|object|17603|[nan 'No' 'Yes']| | |\n",
    "|Col81|Visio phone|object|12905|[nan 'No' 'Yes']| | |\n",
    "|Col82|Jacuzzi|object|17314|[nan 'No' 'Yes']| | |\n",
    "|Col83|Sauna|object|17311|[nan 'No' 'Yes']| | |\n",
    "|Col84|Internet|object|17620|[nan 'Yes' 'No']| | |\n",
    "|Col85|Conformity certification for fuel tanks|object|17413|[nan 'Yes, conform' 'No' 'Yes, not conform']| | |\n",
    "|Col86|Heat pump|object|15254|[nan 'No' 'Yes']| | |\n",
    "|Col87|Photovoltaic solar panels|object|16719|[nan 'Yes' 'No']| | |\n",
    "|Col88|Thermic solar panels|object|16039|[nan 'Yes' 'No']| | |\n",
    "|Col89|Common water heater|object|16844|[nan 'No' 'Yes']| | |\n",
    "|Col90|Type of building|object|17393|[nan 'All kind' 'Villa' 'Bungalow' 'Apartment building' 'Town-house']| | |\n",
    "|Col91|Terrace|object|14309|[nan 'Yes']| | |\n",
    "|Col92|Bedroom 5 surface|object|17323|[nan '10 m² square meters' '13 m² square meters' '16 m² square meters' '15 m² square meters' '14 m² square meters' '23 m² square meters' '17 m² square meters' '11 m² square meters' '18 m² square meters']| | |\n",
    "|Col93|Professional space surface|object|18039|[nan '167 m² square meters' '40 m² square meters' '340 m² square meters' '73 m² square meters' '30 m² square meters' '60 m² square meters' '19 m² square meters' '83 m² square meters' '36 m² square meters']| | |\n",
    "|Col94|As built plan|object|12584|[nan 'Yes, conform' 'No']| | |\n",
    "|Col95|Living room|object|15544|[nan 'Yes']| | |\n",
    "|Col96|How many fireplaces?|float64|17484|[nan  1.  2.  3. 10.  6.  4.  5. 40.]| | |\n",
    "|Col97|Garden|object|16266|[nan 'Yes']| | |\n",
    "|Col98|Garden orientation|object|14815|[nan 'South East' 'South' 'North' 'West' 'North East' 'South West' 'North West' 'East']| | |\n",
    "|Col99|Terrace orientation|object|17243|[nan 'South' 'South West' 'North East' 'West' 'South East' 'East' 'North' 'North West']| | |\n",
    "|Col100|E-level (overall energy performance)|float64|16920|[   nan 54901.   332. 88785.   181.   131.   396. 17017. 62189. 76408.]| | |\n",
    "|Col101|Agent's name|object|17451|[nan 'Cédric Mathonnet' 'Immo TK' 'Alicia MOREELS' 'Alexis Soillle' 'Vranckx Gauthier' 'Clara MALAXOS' 'Desira Kevin' 'NINETEEN PROPERTY' 'HICKL-SZABO, Sonja']| | |\n",
    "|Col102|Number of annexes|float64|18333|[nan  1.  2.  6.  5.  3.]| | |\n",
    "|Col103|Isolated|object|18291|[nan 'Yes']| | |\n",
    "|Col104|Obligation to build|object|16149|[nan 'No' 'Yes']| | |\n",
    "|Col105|Monthly charges|object|17488|[nan '€ 60 60 €' '€ 100 100 €' '€ 50 50 €' '€ 350 350 €' '€ 21 21 €' '€ 75 75 €' '€ 290 290 €' '€ 107 107 €' '€ 30 30 €']| | |\n",
    "|Col106|Property name|object|17361|[nan \"PORTE D'ANDERLECHT - ABATTOIRS\" '-' 'PARC TENBOSCH - CHATELAIN - LEPOUTRE' 'MONTGOMERY - PARC DE TERVUREN - MERODE' 'RUBENSLAAN 5' 'Uiterste verzorgde villa met magnifieke tuin!' 'Patrick Van Humbeek' 'SERGEANT DE BRUYNESTRAAT 32A' 'Banlieu wijk']| | |\n",
    "|Col107|Extra information|object|18463|[nan 'Ok' 'Each house has a private garden. A common plot allows access to vehicles behind the houses.' 'Demander les RU' 'Pleasant little garden situated next to a quiet stream.' 'Yes' 'vg, wg, gdv, gvkr, vv' 'Vg, Wg, Gvkr, Gmo, Gvv' 'Information from the Town Planning Services is available.' 'Good']| | |\n",
    "|Col108|Lump sum|object|18432|[nan '€ 30,000 30000€' '€ 35,000 35000€' '€ 25,000 25000€' '€ 50,000 50000€' '€ 60,000 60000€' '€ 149,000 149000€' '€ 40,000 40000€' '€ 259,000 259000€' '€ 150,000 150000€']| | |\n",
    "|Col109|Monthly annuity|object|18432|[nan '€ 580 580€' '€ 550 550€' '€ 660 660€' '€ 950 950€' '€ 800 800€' '€ 1,170 1170€' '€ 1 1€' '€ 535 535€' '€ 1,665 1665€']| | |\n",
    "|Col110|Indexed annuity|object|18432|[nan 'Yes' 'No']| | |\n",
    "|Col111|Reversionary annuity|object|18433|[nan 'No' 'Yes']| | |\n",
    "|Col112|Bare ownership sale|object|18432|[nan 'No' 'Yes']| | |\n",
    "|Col113|Number of annuitants|float64|18440|[nan  1.  2.]| | |\n",
    "|Col114|Age of annuitant|float64|18474|[nan 75. 65. 76. 70.]| | |\n",
    "|Col115|Maximum duration of annuity|float64|18479|[nan]| | |\n",
    "|Col116|Age of annuitants|object|18474|[nan '76, 73' '72, 75' '71, 76' '75, 74' '85, 82']| | |\n",
    "|Col117|Value of the property|object|18443|[nan '€ 280,000 280000€' '€ 60,000 60000€' '€ 245,000 245000€' '€ 110,000 110000€' '€ 220,000 220000€' '€ 395,000 395000€' '€ 420,000 420000€' '€ 40,000 40000€' '€ 260,000 260000€']| | |\n",
    "|Col118|Current monthly revenue|float64|18479|[nan]| | |\n",
    "|Col119|Percentage rented|float64|18470|[ nan 100.  20.   1.]| | |\n",
    "|Col120|Venue of the sale|object|18047|[nan 'Link to online sale']| | |\n",
    "|Col121|Single session|object|18047|[nan 'No']| | |\n",
    "|Col122|Terms of visit|object|18072|[nan 'fr : SANS RENDEZ-VOUS : Je 13/10 de 17h à 19h, sa 15/10 de 14h à 16h, je 20/10 de 17h à 19h, sa 22/10 de 14h à 16h, je 27/10 de 17h à 19h, sa 05/11 de 14h à 16h, je 10/11 de 17h à 19h, sa 12/11 de 14h à 16h, lu 14/11 de 10h à 12h, je 17/11 de 09h à 11h.' 'fr : Visite sur prise de rendez-vous avec Madame VAN DEN HOVE : 082/77.18.77 - Tapez 4' 'nl : Bezoek na afspraak op: - Woensdag 28 september, 5, 12 en 19 oktober 2022 van 16u00 tot 18u00; - Zaterdag 1, 8, 15 en 22 oktober 2022 van 10u00 tot 12u00.' 'fr : Demande de visite sous le numéro 087 / 89 18 16' 'nl : OP AFSPRAAK, op zondag 18 september en zaterdag 1 oktober. Andere bezoeken kunnen steeds op verzoek ingepland worden ([email\\xa0protected] of 09/388.82.77)' \"fr : Sur rendez-vous via l'étude (061/21.11.22)\" 'nl : Het goed zal kunnen bezocht worden van 14.00 tot 16.00 uur op: woe. 21 september 2022; za. 24 september 2022; woe. 28 september 2022; za. 1 oktober 2022; woe. 5 oktober 2022; za. 8 oktober 2022; woe. 12 oktober 2022; za. 15 oktober 2022' 'nl : Het goed zal door de kandidaat-kopers kunnen bezocht worden op afspraak; op zondag 4 en 18 september' 'fr : sam. 24/09, 01-08-15/10 et jeu. 29/09, 06-13/10 de 11-13h. nl : zat. 24/09, 01-08-15/10 en don. 29/09, 06-13/10 van 11-13u.']| | |\n",
    "|Col123|Starting price|object|18047|[nan '€ 150,000 150000 €' '€ 100,000 100000 €' '€ 395,000 395000 €' '€ 170,000 170000 €' '€ 209,000 209000 €' '€ 120,000 120000 €' '€ 165,000 165000 €' '€ 276,000 276000 €' '€ 382,750 382750 €']| | |\n",
    "|Col124|EPC description|object|18474|[nan \"the EPC result is E as we couldn't find the invoices of the new roof from 2004 with isolation so it should be better than E as mentioned on the certificate\" 'Very nice flat 3 rooms, 1 garage, spacious torage room, marble floor and stairs beautiful and large terrace of 12 m2' 'Gasjaarverbruik in 2021: 150 euro / jaarElektriciteitsverbruik in 2021: 45e / maand' 'Ongoing' 'Le PEB “classé A“ n° 20220727020160 indique une consommation d’énergie primaire de 80 KWH /m² par an et d’énergie primaire théorique total de 7402 KWH/an.Le PEB indique des besoins en chauffage MINIMES, une EXCELLENTE installation de chauffage et d’eau chaude sanitaire et un système de ventilation COMPLET. Le chauffage et l’eau chaude sanitaire instantanée sont assurés par une chaudière gaz à condensation de la marque Viessmann Vitodens 200 W de 26 KW avec option régulation par sonde extérieur installée en 2010. (Installation et entretient périodique réalisé par la société Miessen à Embourg).']| | |\n",
    "|Col125|Sea view|object|18454|[nan 'Yes']| | |\n",
    "|Col126|Floor|float64|12078|[ nan   1.   2.   5.   3. 999.   7.   4.  19.   6.]| | |\n",
    "|Col127|Number of floors|float64|12678|[nan  2.  5.  4.  1.  3.  6. 12.  7. 26.]| | |"
   ]
  },
  {
   "cell_type": "markdown",
   "id": "8d37defd-930f-41b3-9949-043af056bae6",
   "metadata": {},
   "source": [
    "print(df['Building condition'].unique())"
   ]
  },
  {
   "cell_type": "markdown",
   "id": "73560fb1-7ee3-401e-b2b6-398b2d214b60",
   "metadata": {},
   "source": [
    "**dtype cleaning**"
   ]
  },
  {
   "cell_type": "code",
   "execution_count": 4,
   "id": "708520f1-c749-4a8f-89ef-607a71989d37",
   "metadata": {},
   "outputs": [],
   "source": [
    "def remove_str(strig_to_remove):\n",
    "    df['Street frontage width'] = df['Street frontage width'].str.replace(strig_to_remove,'').fillna(0).astype(float)"
   ]
  },
  {
   "cell_type": "code",
   "execution_count": 5,
   "id": "02f3669a-3fd5-4cc1-81f6-c4feac423df5",
   "metadata": {},
   "outputs": [],
   "source": [
    "df['Street frontage width'] = df['Street frontage width'].str.replace(' m','')  #removes text\n",
    "df['Street frontage width'] = df['Street frontage width'].fillna(0)  #fills missing data with 0\n",
    "df['Street frontage width'] = df['Street frontage width'].astype(float)  #cast float type"
   ]
  },
  {
   "cell_type": "code",
   "execution_count": 6,
   "id": "e8315f13-def7-4b9f-a1d3-c86d9d70950c",
   "metadata": {},
   "outputs": [
    {
     "data": {
      "text/plain": [
       "0         5.00\n",
       "1         4.44\n",
       "2         7.00\n",
       "3        12.00\n",
       "4         7.00\n",
       "         ...  \n",
       "18474     0.00\n",
       "18475     0.00\n",
       "18476     0.00\n",
       "18477     0.00\n",
       "18478     0.00\n",
       "Name: Street frontage width, Length: 18479, dtype: float64"
      ]
     },
     "execution_count": 6,
     "metadata": {},
     "output_type": "execute_result"
    }
   ],
   "source": [
    "df['Street frontage width']"
   ]
  },
  {
   "cell_type": "code",
   "execution_count": 28,
   "id": "774f84bd-8105-4f61-97c9-44ef087b116e",
   "metadata": {},
   "outputs": [
    {
     "data": {
      "text/plain": [
       "array(['No', 0, 'Yes'], dtype=object)"
      ]
     },
     "execution_count": 28,
     "metadata": {},
     "output_type": "execute_result"
    }
   ],
   "source": [
    "df['Swimming pool'].fillna(0).unique()\n",
    "#df['Swimming pool'].unique()"
   ]
  },
  {
   "cell_type": "code",
   "execution_count": 29,
   "id": "df295692-9a1b-48fd-ac28-89112e839184",
   "metadata": {},
   "outputs": [
    {
     "data": {
      "text/plain": [
       "array([0., 1.])"
      ]
     },
     "execution_count": 29,
     "metadata": {},
     "output_type": "execute_result"
    }
   ],
   "source": [
    "df['Swimming pool'] = df['Swimming pool'].map({'Yes': 1, 'No': 0}).fillna(0)\n",
    "df['Swimming pool'].unique()"
   ]
  },
  {
   "cell_type": "code",
   "execution_count": 37,
   "id": "bcece39e-8834-4116-a3e6-6b32f8bd4cc4",
   "metadata": {},
   "outputs": [
    {
     "data": {
      "text/plain": [
       "array([0.5 , 0.75, 1.  , 0.  ])"
      ]
     },
     "execution_count": 37,
     "metadata": {},
     "output_type": "execute_result"
    }
   ],
   "source": [
    "df['Kitchen type'].fillna(0).unique()"
   ]
  },
  {
   "cell_type": "code",
   "execution_count": 52,
   "id": "8a11c199-e8ec-4ed5-a4d0-00fafcf0144d",
   "metadata": {},
   "outputs": [
    {
     "data": {
      "text/plain": [
       "array([0.5 , 0.75, 1.  , 0.  ])"
      ]
     },
     "execution_count": 52,
     "metadata": {},
     "output_type": "execute_result"
    }
   ],
   "source": [
    "df['Kitchen type'] = df['Kitchen type'].map({'Semi equipped': 0.5, 'USA installed': 0.75, 'Installed': 0.75, 'Hyper equipped': 1.0, 'Not installed': 0.0, 'USA semi equipped': 0.5, 'USA hyper equipped': 1.0,  'USA uninstalled': 0.75})\n",
    "df['Kitchen type'].fillna(0).unique().astype(float)"
   ]
  },
  {
   "cell_type": "code",
   "execution_count": 50,
   "id": "938c84ef-9702-42a7-95e0-05ace912d7f0",
   "metadata": {},
   "outputs": [
    {
     "data": {
      "text/plain": [
       "dtype('float64')"
      ]
     },
     "execution_count": 50,
     "metadata": {},
     "output_type": "execute_result"
    }
   ],
   "source": [
    "df['Kitchen type'].dtype"
   ]
  },
  {
   "cell_type": "markdown",
   "id": "572dd37d-dd8c-433b-b9c6-25ba50761032",
   "metadata": {
    "tags": []
   },
   "source": [
    "## 3. Data exploration"
   ]
  },
  {
   "cell_type": "markdown",
   "id": "4cd4e682-1759-4aa3-8e88-0c01cb2c0ba2",
   "metadata": {},
   "source": []
  },
  {
   "cell_type": "code",
   "execution_count": null,
   "id": "ac016328-de36-406d-9d7c-112889058d64",
   "metadata": {},
   "outputs": [],
   "source": []
  },
  {
   "cell_type": "code",
   "execution_count": null,
   "id": "71c5cbd1-2c73-452b-8897-41be49c072f5",
   "metadata": {},
   "outputs": [],
   "source": []
  },
  {
   "cell_type": "markdown",
   "id": "5b94efd4-f83a-450b-9b1e-79bc9d09f1d1",
   "metadata": {
    "tags": []
   },
   "source": [
    "## Conclusions"
   ]
  },
  {
   "cell_type": "code",
   "execution_count": null,
   "id": "afe5fb7e-13d3-41cc-b2b5-d59b92002d8d",
   "metadata": {},
   "outputs": [],
   "source": []
  }
 ],
 "metadata": {
  "kernelspec": {
   "display_name": "Python 3 (ipykernel)",
   "language": "python",
   "name": "python3"
  },
  "language_info": {
   "codemirror_mode": {
    "name": "ipython",
    "version": 3
   },
   "file_extension": ".py",
   "mimetype": "text/x-python",
   "name": "python",
   "nbconvert_exporter": "python",
   "pygments_lexer": "ipython3",
   "version": "3.10.6"
  }
 },
 "nbformat": 4,
 "nbformat_minor": 5
}
