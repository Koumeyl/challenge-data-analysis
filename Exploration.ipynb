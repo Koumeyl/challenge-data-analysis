{
 "cells": [
  {
   "cell_type": "markdown",
   "id": "effc98b6-b2c1-4c67-8a56-43279d02854a",
   "metadata": {},
   "source": [
    "# Immo proyect"
   ]
  },
  {
   "cell_type": "markdown",
   "id": "121303be-9d26-4875-b1e8-596eea48894e",
   "metadata": {},
   "source": [
    "### Introduction"
   ]
  },
  {
   "cell_type": "markdown",
   "id": "12a2928d-f67f-4393-8585-78f9c10622d3",
   "metadata": {},
   "source": [
    "### 0. Imports"
   ]
  },
  {
   "cell_type": "code",
   "execution_count": 6,
   "id": "ce62a226-b315-4812-bdb4-50a12628fd84",
   "metadata": {},
   "outputs": [],
   "source": [
    "import pandas as pd\n",
    "import numpy as np\n",
    "import matplotlib.pylab as plt\n",
    "import seaborn as sns\n",
    "plt.style.use('ggplot')"
   ]
  },
  {
   "cell_type": "markdown",
   "id": "32687e3c-4c95-43ed-9628-d60150a41cdb",
   "metadata": {},
   "source": [
    "### 1. DataFrame"
   ]
  },
  {
   "cell_type": "code",
   "execution_count": 8,
   "id": "523631aa-a81b-4188-9317-ca381740352e",
   "metadata": {},
   "outputs": [],
   "source": [
    "df = pd.read_csv('data/clean_data.csv')"
   ]
  },
  {
   "cell_type": "markdown",
   "id": "20a15432-df06-4570-b969-33a338f88504",
   "metadata": {},
   "source": [
    "#### Understandig the Data"
   ]
  },
  {
   "cell_type": "code",
   "execution_count": 9,
   "id": "8b003a6a-f5ee-4a13-b399-47061df0994c",
   "metadata": {},
   "outputs": [
    {
     "data": {
      "text/plain": [
       "(16771, 21)"
      ]
     },
     "execution_count": 9,
     "metadata": {},
     "output_type": "execute_result"
    }
   ],
   "source": [
    "df.shape"
   ]
  },
  {
   "cell_type": "code",
   "execution_count": 41,
   "id": "0daa5526-b03a-4c45-a4f8-f70f3db52758",
   "metadata": {},
   "outputs": [],
   "source": [
    "df_list = df.columns.tolist()[2:]"
   ]
  },
  {
   "cell_type": "markdown",
   "id": "3c2903fc-1453-4978-9cb0-31e7e954b4f1",
   "metadata": {},
   "source": [
    "## 2. Attribues understanding"
   ]
  },
  {
   "cell_type": "code",
   "execution_count": 46,
   "id": "1a09833b-198f-4ec6-94ff-d7ca88e2b11e",
   "metadata": {},
   "outputs": [
    {
     "name": "stdout",
     "output_type": "stream",
     "text": [
      "type_of_property\n",
      "house        7559\n",
      "apartment    7017\n",
      "other        2195\n",
      "Name: type_of_property, dtype: int64\n",
      "\n",
      "\n",
      "subtype_of_property\n",
      "house                   6278\n",
      "apartment               5894\n",
      "villa                   1051\n",
      "duplex                   480\n",
      "penthouse                471\n",
      "apartment-block          402\n",
      "ground-floor             390\n",
      "mixed-use-building       333\n",
      "flat-studio              280\n",
      "exceptional-property     224\n",
      "Name: subtype_of_property, dtype: int64\n",
      "\n",
      "\n",
      "Price\n",
      "299000.0    277\n",
      "249000.0    240\n",
      "295000.0    227\n",
      "395000.0    226\n",
      "199000.0    222\n",
      "275000.0    202\n",
      "495000.0    179\n",
      "399000.0    177\n",
      "225000.0    176\n",
      "349000.0    176\n",
      "Name: Price, dtype: int64\n",
      "\n",
      "\n",
      "locality\n",
      "uccle           495\n",
      "gent            412\n",
      "ixelles         380\n",
      "bruxelles       366\n",
      "liege           308\n",
      "antwerp         304\n",
      "knokke-heist    276\n",
      "oostende        251\n",
      "blankenberge    194\n",
      "schaerbeek      191\n",
      "Name: locality, dtype: int64\n",
      "\n",
      "\n",
      "zip_code\n",
      "1180    501\n",
      "8300    457\n",
      "1000    434\n",
      "1050    398\n",
      "9000    377\n",
      "8400    255\n",
      "4000    205\n",
      "1030    198\n",
      "8370    194\n",
      "1200    173\n",
      "Name: zip_code, dtype: int64\n",
      "\n",
      "\n",
      "Construction year\n",
      "2022.0    927\n",
      "2021.0    648\n",
      "1930.0    295\n",
      "2020.0    284\n",
      "1970.0    255\n",
      "1900.0    205\n",
      "1960.0    181\n",
      "1950.0    177\n",
      "1965.0    172\n",
      "2018.0    167\n",
      "Name: Construction year, dtype: int64\n",
      "\n",
      "\n",
      "Building condition\n",
      "0.0    16771\n",
      "Name: Building condition, dtype: int64\n",
      "\n",
      "\n",
      "Number of frontages\n",
      "2.0    6393\n",
      "1.0    4191\n",
      "4.0    3475\n",
      "3.0    2704\n",
      "6.0       3\n",
      "8.0       3\n",
      "5.0       2\n",
      "Name: Number of frontages, dtype: int64\n",
      "\n",
      "\n",
      "Living area\n",
      "0.0      1077\n",
      "100.0     308\n",
      "150.0     284\n",
      "90.0      268\n",
      "120.0     238\n",
      "110.0     232\n",
      "180.0     228\n",
      "200.0     227\n",
      "80.0      219\n",
      "160.0     216\n",
      "Name: Living area, dtype: int64\n",
      "\n",
      "\n",
      "Kitchen type\n",
      "0.0    16771\n",
      "Name: Kitchen type, dtype: int64\n",
      "\n",
      "\n",
      "Bedrooms\n",
      "2.0    5159\n",
      "3.0    4985\n",
      "4.0    2517\n",
      "1.0    1748\n",
      "5.0    1117\n",
      "6.0     504\n",
      "0.0     314\n",
      "7.0     185\n",
      "8.0      89\n",
      "9.0      59\n",
      "Name: Bedrooms, dtype: int64\n",
      "\n",
      "\n",
      "Furnished\n",
      "0.0    16771\n",
      "Name: Furnished, dtype: int64\n",
      "\n",
      "\n",
      "Surface of the plot\n",
      "0.0      8509\n",
      "100.0      70\n",
      "150.0      66\n",
      "170.0      59\n",
      "200.0      57\n",
      "120.0      57\n",
      "140.0      56\n",
      "110.0      55\n",
      "80.0       54\n",
      "90.0       52\n",
      "Name: Surface of the plot, dtype: int64\n",
      "\n",
      "\n",
      "Garden surface\n",
      "0.0      12657\n",
      "200.0      116\n",
      "100.0      116\n",
      "50.0        86\n",
      "300.0       79\n",
      "500.0       77\n",
      "400.0       71\n",
      "150.0       70\n",
      "40.0        65\n",
      "60.0        59\n",
      "Name: Garden surface, dtype: int64\n",
      "\n",
      "\n",
      "Terrace surface\n",
      "0.0     8821\n",
      "20.0     465\n",
      "10.0     446\n",
      "15.0     371\n",
      "12.0     364\n",
      "30.0     309\n",
      "6.0      306\n",
      "8.0      301\n",
      "25.0     286\n",
      "40.0     250\n",
      "Name: Terrace surface, dtype: int64\n",
      "\n",
      "\n",
      "Swimming pool\n",
      "0.0    16771\n",
      "Name: Swimming pool, dtype: int64\n",
      "\n",
      "\n",
      "type_of_sale\n",
      "for-sale    16771\n",
      "Name: type_of_sale, dtype: int64\n",
      "\n",
      "\n",
      "Terrace\n",
      "0.0    16771\n",
      "Name: Terrace, dtype: int64\n",
      "\n",
      "\n",
      "Garden\n",
      "0.0    16771\n",
      "Name: Garden, dtype: int64\n",
      "\n",
      "\n"
     ]
    }
   ],
   "source": [
    "for index,column in enumerate(df_list):\n",
    "    print(column)\n",
    "    print(df[df_list[index]].value_counts().head(10))\n",
    "    print('\\n')"
   ]
  },
  {
   "cell_type": "code",
   "execution_count": 47,
   "id": "cde9075c-ba00-4b74-a80b-6da52e4967f5",
   "metadata": {},
   "outputs": [
    {
     "data": {
      "text/plain": [
       "0.0    16771\n",
       "Name: Terrace, dtype: int64"
      ]
     },
     "execution_count": 47,
     "metadata": {},
     "output_type": "execute_result"
    }
   ],
   "source": [
    "df['Terrace'].value_counts()"
   ]
  },
  {
   "cell_type": "markdown",
   "id": "6138dd3a-82b3-4a87-898a-4c7afb4ee9a7",
   "metadata": {},
   "source": [
    "### Introduction"
   ]
  },
  {
   "cell_type": "code",
   "execution_count": null,
   "id": "d4fd31c4-f930-4d2c-bd06-8c61b13e37f7",
   "metadata": {},
   "outputs": [],
   "source": []
  }
 ],
 "metadata": {
  "kernelspec": {
   "display_name": "Python 3 (ipykernel)",
   "language": "python",
   "name": "python3"
  },
  "language_info": {
   "codemirror_mode": {
    "name": "ipython",
    "version": 3
   },
   "file_extension": ".py",
   "mimetype": "text/x-python",
   "name": "python",
   "nbconvert_exporter": "python",
   "pygments_lexer": "ipython3",
   "version": "3.10.6"
  }
 },
 "nbformat": 4,
 "nbformat_minor": 5
}
